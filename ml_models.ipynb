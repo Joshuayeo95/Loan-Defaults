{
 "cells": [
  {
   "cell_type": "markdown",
   "metadata": {},
   "source": [
    "# Loan Defaults Modelling\n",
    "\n",
    "The notebook aims to find the model that offers the best performance in __predicting loan defaults__. \n",
    "\n",
    "The primary metric used to evaluate model performance is the __F1 Score__, which is the harmonic mean between precision and recall. The rationale for choosing F1 is that we want to __identify as many defaults as possible while ensuring that our model is not over predicting the defaults__. Additionally, we will provide insgihts about the model performances in relation to its __precision__ and __recall__ and how different use cases may favour different models.\n",
    "\n",
    "From our exploratory data analysis, we note that we are working with an __imbalanced dataset__. Therefore, we will be applying different __resampling techniques__ and monitor if there are improvements to the model's performance.\n",
    "\n",
    "__Note__: The functions used in this notebook can be found in the scripts within the utils folder."
   ]
  },
  {
   "cell_type": "markdown",
   "metadata": {},
   "source": [
    "## Table of Contents <a id='table_contents'></a>\n",
    "\n",
    "#### Machine Learning Models\n",
    "\n",
    "* [Naive Model](#naive)\n",
    "* [Nearest Centroid](#ncc) \n",
    "* [K-Nearest Neighbours](#knn)\n",
    "* [Logistic Regression](#logreg)"
   ]
  },
  {
   "cell_type": "markdown",
   "metadata": {},
   "source": [
    "### Importing Libraries"
   ]
  },
  {
   "cell_type": "code",
   "execution_count": 1,
   "metadata": {},
   "outputs": [],
   "source": [
    "# Standard Tools\n",
    "from scipy import stats\n",
    "import pandas as pd\n",
    "import numpy as np\n",
    "import warnings\n",
    "import pickle\n",
    "import copy\n",
    "warnings.filterwarnings('ignore')\n",
    "\n",
    "# Custom Functions\n",
    "from utils import visualisation as viz\n",
    "from utils import modelling as mod\n",
    "\n",
    "# Machine Learning\n",
    "from sklearn.model_selection import train_test_split, StratifiedKFold, GridSearchCV, cross_validate\n",
    "from sklearn.metrics import recall_score, precision_score, f1_score, roc_auc_score, accuracy_score\n",
    "from sklearn.metrics import confusion_matrix, classification_report, roc_curve\n",
    "from sklearn.preprocessing import StandardScaler\n",
    "\n",
    "from sklearn.ensemble import GradientBoostingClassifier, RandomForestClassifier\n",
    "from sklearn.linear_model import LogisticRegressionCV, LogisticRegression\n",
    "from sklearn.neighbors import KNeighborsClassifier, NearestCentroid\n",
    "\n",
    "# Sampling Tools\n",
    "from imblearn.over_sampling import SMOTE, RandomOverSampler\n",
    "from imblearn.pipeline import Pipeline\n",
    "\n",
    "# Visualisation\n",
    "import matplotlib.pyplot as plt\n",
    "import plotly.express as px\n",
    "import seaborn as sns\n",
    "plt.style.use('seaborn-muted')\n",
    "\n",
    "# Misc\n",
    "pd.set_option('display.max_rows', 100)\n",
    "pd.set_option('display.max_columns', 100)\n",
    "%matplotlib inline\n",
    "%config InlineBackend.figure_formate = 'retina'\n",
    "\n",
    "# Random State\n",
    "SEED = 8888\n",
    "np.random.seed(8888)"
   ]
  },
  {
   "cell_type": "markdown",
   "metadata": {},
   "source": [
    "### Loading Our Processed Data"
   ]
  },
  {
   "cell_type": "code",
   "execution_count": 2,
   "metadata": {},
   "outputs": [],
   "source": [
    "with open('training_cleaned.pickle', 'rb') as f:\n",
    "    train = pickle.load(f)\n",
    "\n",
    "with open('testing_cleaned.pickle', 'rb') as f:\n",
    "    test = pickle.load(f)"
   ]
  },
  {
   "cell_type": "markdown",
   "metadata": {},
   "source": [
    "### Splitting Data into Training and Testing Datasets\n",
    "\n",
    "The dataset will be split into __training (80%)__ and __holdout (20%)__ datasets. \n",
    "\n",
    "__Model training and hyper paramter tuning__ will be performed using the training data and using __5-fold cross validation__. We will then compare the performance of different models on the holdout dataset."
   ]
  },
  {
   "cell_type": "code",
   "execution_count": 3,
   "metadata": {},
   "outputs": [],
   "source": [
    "X = train.drop('default_status', axis=1)\n",
    "y = train.default_status"
   ]
  },
  {
   "cell_type": "code",
   "execution_count": 4,
   "metadata": {},
   "outputs": [],
   "source": [
    "# stratified data split\n",
    "X_train, X_test, y_train, y_test = train_test_split(X, y, test_size=0.2, stratify=y, random_state=SEED)"
   ]
  },
  {
   "cell_type": "code",
   "execution_count": 5,
   "metadata": {},
   "outputs": [],
   "source": [
    "# defining cross-validation method\n",
    "skf = StratifiedKFold(n_splits=5, shuffle=True, random_state=SEED)"
   ]
  },
  {
   "cell_type": "code",
   "execution_count": 6,
   "metadata": {},
   "outputs": [],
   "source": [
    "# kwargs for cross_validate method\n",
    "cv_kwargs = {\n",
    "    'scoring' : 'f1',\n",
    "    'cv' : skf,\n",
    "    'n_jobs' : -1,\n",
    "    'return_train_score' : True,\n",
    "    'verbose' : False,\n",
    "    'return_estimator' : True\n",
    "}"
   ]
  },
  {
   "cell_type": "markdown",
   "metadata": {},
   "source": [
    "## Baseline Model : Nearest Centroid Classifier <a id='ncc'></a>\n",
    "\n",
    "The Nearest Centroid Classifier is a simple algorithm that represents each class by the __centroid of its members__, similar to the label updating phase of the K-Means algorithm. Furthermore, there are __no parameters to choose from__, making it a __good baseline classifier__."
   ]
  },
  {
   "cell_type": "code",
   "execution_count": 7,
   "metadata": {},
   "outputs": [],
   "source": [
    "# ncc model pipeline\n",
    "ncc_pipe = Pipeline(steps=[\n",
    "    ('Standardise',  StandardScaler()),\n",
    "    ('NearestCentroid', NearestCentroid())\n",
    "])"
   ]
  },
  {
   "cell_type": "code",
   "execution_count": 8,
   "metadata": {},
   "outputs": [
    {
     "name": "stdout",
     "output_type": "stream",
     "text": [
      "Cross Validation Results Summary\n",
      "================================\n",
      "Avg Training score \t 0.630980\n",
      "Avg Testing score \t 0.624498\n",
      "\n",
      "Avg Fitting Time \t 0.0063s\n",
      "Avg Scoring Time \t 0.0033s\n"
     ]
    },
    {
     "data": {
      "image/png": "[encoded data removed]",
      "text/plain": [
       "<Figure size 360x360 with 1 Axes>"
      ]
     },
     "metadata": {
      "needs_background": "light"
     },
     "output_type": "display_data"
    }
   ],
   "source": [
    "# cross validation summary report\n",
    "ncc_cv_results = mod.cross_validation_summary(ncc_pipe, X_train, y_train, cv_kwargs, flip_scores=False)"
   ]
  },
  {
   "cell_type": "markdown",
   "metadata": {},
   "source": [
    "Our baseline model has an __approximate 62% F1 Score__. We will save the estimator that performed the best during cross validation and test it on the holdout dataset."
   ]
  },
  {
   "cell_type": "code",
   "execution_count": 9,
   "metadata": {},
   "outputs": [
    {
     "name": "stdout",
     "output_type": "stream",
     "text": [
      "Holdout Dataset Classification Report for Nearest Centroid\n",
      "==========================================================\n",
      "              precision    recall  f1-score   support\n",
      "\n",
      "           0       0.86      0.67      0.76       326\n",
      "           1       0.53      0.77      0.63       155\n",
      "\n",
      "    accuracy                           0.70       481\n",
      "   macro avg       0.69      0.72      0.69       481\n",
      "weighted avg       0.75      0.70      0.71       481\n",
      "\n",
      "\n"
     ]
    },
    {
     "data": {
      "image/png": "[encoded data removed]",
      "text/plain": [
       "<Figure size 360x360 with 2 Axes>"
      ]
     },
     "metadata": {
      "needs_background": "light"
     },
     "output_type": "display_data"
    }
   ],
   "source": [
    "# saving best estimator from cross validation\n",
    "ncc_model = mod.get_best_estimator(ncc_cv_results, greater_is_better=False)\n",
    "\n",
    "# classification report for model on holdout data\n",
    "ncc_y_pred = mod.holdout_evaluation(ncc_model, X_train, y_train, X_test, y_test, model_name='Nearest Centroid')"
   ]
  },
  {
   "cell_type": "markdown",
   "metadata": {},
   "source": [
    "#### Model Performance Evaluation\n",
    "The baseline model offers decent performance with with an __F1 score of 61%__. The model is also __decent at detecting loans that will default__, with a __recall of 77%__, but given the __low precision of 53%__, the model may be __over predicting defaults__. \n",
    "\n",
    "We will save the performance of our baseline and compare the results to other classification algorithms."
   ]
  },
  {
   "cell_type": "code",
   "execution_count": 10,
   "metadata": {},
   "outputs": [
    {
     "data": {
      "text/html": [
       "<div>\n",
       "<style scoped>\n",
       "    .dataframe tbody tr th:only-of-type {\n",
       "        vertical-align: middle;\n",
       "    }\n",
       "\n",
       "    .dataframe tbody tr th {\n",
       "        vertical-align: top;\n",
       "    }\n",
       "\n",
       "    .dataframe thead th {\n",
       "        text-align: right;\n",
       "    }\n",
       "</style>\n",
       "<table border=\"1\" class=\"dataframe\">\n",
       "  <thead>\n",
       "    <tr style=\"text-align: right;\">\n",
       "      <th></th>\n",
       "      <th>Model</th>\n",
       "      <th>Accuracy</th>\n",
       "      <th>ROC_AUC</th>\n",
       "      <th>Precision</th>\n",
       "      <th>Recall</th>\n",
       "      <th>F1</th>\n",
       "    </tr>\n",
       "  </thead>\n",
       "  <tbody>\n",
       "    <tr>\n",
       "      <th>0</th>\n",
       "      <td>NearestCentroid</td>\n",
       "      <td>0.7048</td>\n",
       "      <td>0.7213</td>\n",
       "      <td>0.5289</td>\n",
       "      <td>0.7677</td>\n",
       "      <td>0.6263</td>\n",
       "    </tr>\n",
       "  </tbody>\n",
       "</table>\n",
       "</div>"
      ],
      "text/plain": [
       "             Model  Accuracy  ROC_AUC  Precision  Recall      F1\n",
       "0  NearestCentroid    0.7048   0.7213     0.5289  0.7677  0.6263"
      ]
     },
     "execution_count": 10,
     "metadata": {},
     "output_type": "execute_result"
    }
   ],
   "source": [
    "# saving model scores\n",
    "ncc_results = mod.classification_scores(y_test, ncc_y_pred, model_name='NearestCentroid')\n",
    "ncc_results"
   ]
  },
  {
   "cell_type": "code",
   "execution_count": 11,
   "metadata": {},
   "outputs": [],
   "source": [
    "# creating a results dataframe to compare models\n",
    "model_results = ncc_results.copy(deep=True)"
   ]
  },
  {
   "cell_type": "markdown",
   "metadata": {},
   "source": [
    "[Return to Table of Contents](#table_contents)"
   ]
  },
  {
   "cell_type": "markdown",
   "metadata": {},
   "source": [
    "## K-Nearest Neighbours <a id='knn'></a>\n",
    "\n",
    "KNN is a non-parametric method that assigns classes to observations based on the class majority of its k-nearest neighbours.\n",
    "\n",
    "This model is also relatively simple to tune with __only one regularisation parameter k__, which is the number of neighbours to consider. \n",
    "\n",
    "However, as it is an instance-based learning techiques, it will be slower to evaluate predictions in production."
   ]
  },
  {
   "cell_type": "code",
   "execution_count": 12,
   "metadata": {},
   "outputs": [
    {
     "data": {
      "text/plain": [
       "{'scoring': 'f1',\n",
       " 'cv': StratifiedKFold(n_splits=5, random_state=8888, shuffle=True),\n",
       " 'n_jobs': -1,\n",
       " 'return_train_score': True,\n",
       " 'verbose': False}"
      ]
     },
     "execution_count": 12,
     "metadata": {},
     "output_type": "execute_result"
    }
   ],
   "source": [
    "# creating dict of kwargs for GridSearchCV\n",
    "gs_kwargs = dict((k, cv_kwargs[k]) for k in cv_kwargs if k != 'return_estimator')\n",
    "gs_kwargs"
   ]
  },
  {
   "cell_type": "code",
   "execution_count": 13,
   "metadata": {},
   "outputs": [],
   "source": [
    "# creating KNN model pipeline\n",
    "knn_pipe = Pipeline(steps=[\n",
    "    ('Standardise', StandardScaler()),\n",
    "    ('KNN', KNeighborsClassifier())\n",
    "])\n",
    "\n",
    "# KNN hyper parameters to iterate over\n",
    "knn_param_grid = {\n",
    "    'KNN__n_neighbors' : np.arange(2, 50, step=2),\n",
    "}"
   ]
  },
  {
   "cell_type": "code",
   "execution_count": 14,
   "metadata": {},
   "outputs": [
    {
     "data": {
      "image/png": "[encoded data removed]",
      "text/plain": [
       "<Figure size 864x360 with 1 Axes>"
      ]
     },
     "metadata": {
      "needs_background": "light"
     },
     "output_type": "display_data"
    }
   ],
   "source": [
    "# average training and testing scores for KNN model for different hyper parameters \n",
    "mod.param_tuning_plots(knn_pipe, knn_param_grid, X_train, y_train, gs_kwargs, n_cols=1, figsize=(12,5))"
   ]
  },
  {
   "cell_type": "markdown",
   "metadata": {},
   "source": [
    "#### Model Performance Interpretation\n",
    "The figure shows that as `n_neighbours` start to increase beyound 25, the holdout performance deteriorates and the __model starts to overfit__. \n",
    "\n",
    "The optimal hyper parameter value appears to lie somewhere between 10 and 30 and we will iterate over this smaller range to find the best value."
   ]
  },
  {
   "cell_type": "code",
   "execution_count": 15,
   "metadata": {},
   "outputs": [],
   "source": [
    "# ppdated param gird with more hyper parameters\n",
    "knn_param_grid = {\n",
    "    'KNN__n_neighbors' : np.arange(10, 30, step=1),\n",
    "    'KNN__weights' : ['uniform', 'distance'],\n",
    "    'KNN__algorithm' : ['ball_tree', 'kd_tree', 'auto'],\n",
    "    'KNN__metric' : ['euclidean', 'manhattan'],\n",
    "    'KNN__n_jobs' : [-1]\n",
    "}"
   ]
  },
  {
   "cell_type": "code",
   "execution_count": 16,
   "metadata": {},
   "outputs": [
    {
     "data": {
      "text/plain": [
       "GridSearchCV(cv=StratifiedKFold(n_splits=5, random_state=8888, shuffle=True),\n",
       "             error_score=nan,\n",
       "             estimator=Pipeline(memory=None,\n",
       "                                steps=[('Standardise',\n",
       "                                        StandardScaler(copy=True,\n",
       "                                                       with_mean=True,\n",
       "                                                       with_std=True)),\n",
       "                                       ('KNN',\n",
       "                                        KNeighborsClassifier(algorithm='auto',\n",
       "                                                             leaf_size=30,\n",
       "                                                             metric='minkowski',\n",
       "                                                             metric_params=None,\n",
       "                                                             n_jobs=None,\n",
       "                                                             n_neighbors=5, p=2,\n",
       "                                                             weights='uniform'))],\n",
       "                                ver...\n",
       "             iid='deprecated', n_jobs=-1,\n",
       "             param_grid={'KNN__algorithm': ['ball_tree', 'kd_tree', 'auto'],\n",
       "                         'KNN__metric': ['euclidean', 'manhattan'],\n",
       "                         'KNN__n_jobs': [-1],\n",
       "                         'KNN__n_neighbors': array([10, 11, 12, 13, 14, 15, 16, 17, 18, 19, 20, 21, 22, 23, 24, 25, 26,\n",
       "       27, 28, 29]),\n",
       "                         'KNN__weights': ['uniform', 'distance']},\n",
       "             pre_dispatch='2*n_jobs', refit=True, return_train_score=True,\n",
       "             scoring='f1', verbose=False)"
      ]
     },
     "execution_count": 16,
     "metadata": {},
     "output_type": "execute_result"
    }
   ],
   "source": [
    "# gridSearch to find the optimal hyper parameters \n",
    "knn_gscv = GridSearchCV(knn_pipe, knn_param_grid, **gs_kwargs)\n",
    "knn_gscv.fit(X_train, y_train)"
   ]
  },
  {
   "cell_type": "code",
   "execution_count": 17,
   "metadata": {},
   "outputs": [
    {
     "data": {
      "text/plain": [
       "{'algorithm': 'ball_tree',\n",
       " 'metric': 'manhattan',\n",
       " 'n_jobs': -1,\n",
       " 'n_neighbors': 25,\n",
       " 'weights': 'distance'}"
      ]
     },
     "execution_count": 17,
     "metadata": {},
     "output_type": "execute_result"
    }
   ],
   "source": [
    "# saving the best hyper parameters for KNN\n",
    "knn_kwargs = dict((k[5:], knn_gscv.best_params_[k]) for k in knn_gscv.best_params_)\n",
    "knn_kwargs"
   ]
  },
  {
   "cell_type": "code",
   "execution_count": 18,
   "metadata": {},
   "outputs": [
    {
     "name": "stdout",
     "output_type": "stream",
     "text": [
      "Holdout Dataset Classification Report for Nearest Neighbours\n",
      "============================================================\n",
      "              precision    recall  f1-score   support\n",
      "\n",
      "           0       0.78      0.88      0.82       326\n",
      "           1       0.65      0.46      0.54       155\n",
      "\n",
      "    accuracy                           0.75       481\n",
      "   macro avg       0.71      0.67      0.68       481\n",
      "weighted avg       0.73      0.75      0.73       481\n",
      "\n",
      "\n"
     ]
    },
    {
     "data": {
      "image/png": "[encoded data removed]",
      "text/plain": [
       "<Figure size 360x360 with 2 Axes>"
      ]
     },
     "metadata": {
      "needs_background": "light"
     },
     "output_type": "display_data"
    }
   ],
   "source": [
    "# saving best KNN estimator during GridSearch and evaluating on holdout data\n",
    "knn_model = knn_gscv.best_estimator_\n",
    "knn_y_pred = mod.holdout_evaluation(knn_model, X_train, y_train, X_test, y_test, model_name='Nearest Neighbours')"
   ]
  },
  {
   "cell_type": "code",
   "execution_count": 19,
   "metadata": {},
   "outputs": [
    {
     "data": {
      "text/html": [
       "<div>\n",
       "<style scoped>\n",
       "    .dataframe tbody tr th:only-of-type {\n",
       "        vertical-align: middle;\n",
       "    }\n",
       "\n",
       "    .dataframe tbody tr th {\n",
       "        vertical-align: top;\n",
       "    }\n",
       "\n",
       "    .dataframe thead th {\n",
       "        text-align: right;\n",
       "    }\n",
       "</style>\n",
       "<table border=\"1\" class=\"dataframe\">\n",
       "  <thead>\n",
       "    <tr style=\"text-align: right;\">\n",
       "      <th></th>\n",
       "      <th>Model</th>\n",
       "      <th>Accuracy</th>\n",
       "      <th>ROC_AUC</th>\n",
       "      <th>Precision</th>\n",
       "      <th>Recall</th>\n",
       "      <th>F1</th>\n",
       "    </tr>\n",
       "  </thead>\n",
       "  <tbody>\n",
       "    <tr>\n",
       "      <th>0</th>\n",
       "      <td>NearestCentroid</td>\n",
       "      <td>0.7048</td>\n",
       "      <td>0.7213</td>\n",
       "      <td>0.5289</td>\n",
       "      <td>0.7677</td>\n",
       "      <td>0.6263</td>\n",
       "    </tr>\n",
       "    <tr>\n",
       "      <th>1</th>\n",
       "      <td>NearestNeighbour</td>\n",
       "      <td>0.7464</td>\n",
       "      <td>0.6724</td>\n",
       "      <td>0.6486</td>\n",
       "      <td>0.4645</td>\n",
       "      <td>0.5414</td>\n",
       "    </tr>\n",
       "  </tbody>\n",
       "</table>\n",
       "</div>"
      ],
      "text/plain": [
       "              Model  Accuracy  ROC_AUC  Precision  Recall      F1\n",
       "0   NearestCentroid    0.7048   0.7213     0.5289  0.7677  0.6263\n",
       "1  NearestNeighbour    0.7464   0.6724     0.6486  0.4645  0.5414"
      ]
     },
     "execution_count": 19,
     "metadata": {},
     "output_type": "execute_result"
    }
   ],
   "source": [
    "# saving KNN model performance on the holdout dataset\n",
    "knn_results = mod.classification_scores(y_test, knn_y_pred, model_name='NearestNeighbour')\n",
    "\n",
    "# appending results to results dataframe\n",
    "model_results = model_results.append(knn_results, ignore_index=True)\n",
    "model_results"
   ]
  },
  {
   "cell_type": "markdown",
   "metadata": {},
   "source": [
    "#### Model Performance Interpretation\n",
    "The K-Nearest Model has achieved an __F1 Score of 54%__, lower than the baseline model. We observe that the model has a __low recall of 46%__, which indicates that it is poor at identifying loans than will default. The model does have decent __precision of 65%__, which indicates that the predicted results are more reliable than the Nearest Centroid model."
   ]
  },
  {
   "cell_type": "markdown",
   "metadata": {},
   "source": [
    "[Return to Table of Contents](#table_contents)"
   ]
  },
  {
   "cell_type": "markdown",
   "metadata": {},
   "source": [
    "## Logistic Regression <a id='logreg'></a>\n",
    "\n",
    "Similar to the K-Nearest Neighbours model, the Logistic Regression also only has __one regularisation parameter lambda (C)__ to tune.\n",
    "\n",
    "Furthermore, being a __parametric method__, it offers __great interpretability__ through analysing how the log-odds of default changes for each feature."
   ]
  },
  {
   "cell_type": "code",
   "execution_count": 21,
   "metadata": {},
   "outputs": [],
   "source": [
    "# creating logistic regression model and parameter grid to iterate over\n",
    "logreg_kwargs = {\n",
    "    'class_weight' : 'balanced',\n",
    "    'penalty' : 'l2',\n",
    "    'solver' : 'lbfgs',\n",
    "    'max_iter' : 1000,\n",
    "    'n_jobs' : -1,\n",
    "    'random_state' : SEED\n",
    "}\n",
    "\n",
    "logreg_model = LogisticRegression(**logreg_kwargs)\n",
    "\n",
    "logreg_param_grid = {\n",
    "    'C' : np.logspace(-4,2,7)\n",
    "}"
   ]
  },
  {
   "cell_type": "code",
   "execution_count": 22,
   "metadata": {},
   "outputs": [
    {
     "data": {
      "image/png": "[encoded data removed]",
      "text/plain": [
       "<Figure size 864x360 with 1 Axes>"
      ]
     },
     "metadata": {
      "needs_background": "light"
     },
     "output_type": "display_data"
    }
   ],
   "source": [
    "# average training and testing scores for different hyper parameter values\n",
    "mod.param_tuning_plots(logreg_model, logreg_param_grid, X_train, y_train, gs_kwargs, n_cols=1,\n",
    "                       x_axis_log_scale=True, figsize=(12,5))"
   ]
  },
  {
   "cell_type": "markdown",
   "metadata": {},
   "source": [
    "The figure shows that as the as the regularisation parameter C increases to __greater than 1, the model starts to overfit__. \n",
    "\n",
    "__The optimal C appears to be somewhere around 0.01__. It seems that applying greater regularisation improves the model performance. We have narrowed our search space and will use a gridsearch to determine the optimal hyper parameter value."
   ]
  },
  {
   "cell_type": "code",
   "execution_count": 33,
   "metadata": {},
   "outputs": [],
   "source": [
    "# range of Cs to iterate over\n",
    "logreg_param_grid = {\n",
    "    'C' : np.arange(0.001, 0.1, step=0.002)\n",
    "}"
   ]
  },
  {
   "cell_type": "code",
   "execution_count": 34,
   "metadata": {},
   "outputs": [
    {
     "data": {
      "text/plain": [
       "GridSearchCV(cv=StratifiedKFold(n_splits=5, random_state=8888, shuffle=True),\n",
       "             error_score=nan,\n",
       "             estimator=LogisticRegression(C=1.0, class_weight='balanced',\n",
       "                                          dual=False, fit_intercept=True,\n",
       "                                          intercept_scaling=1, l1_ratio=None,\n",
       "                                          max_iter=1000, multi_class='auto',\n",
       "                                          n_jobs=-1, penalty='l2',\n",
       "                                          random_state=8888, solver='lbfgs',\n",
       "                                          tol=0.0001, verbose=0,\n",
       "                                          warm_start=False),\n",
       "             iid='dep...\n",
       "             param_grid={'C': array([0.001, 0.003, 0.005, 0.007, 0.009, 0.011, 0.013, 0.015, 0.017,\n",
       "       0.019, 0.021, 0.023, 0.025, 0.027, 0.029, 0.031, 0.033, 0.035,\n",
       "       0.037, 0.039, 0.041, 0.043, 0.045, 0.047, 0.049, 0.051, 0.053,\n",
       "       0.055, 0.057, 0.059, 0.061, 0.063, 0.065, 0.067, 0.069, 0.071,\n",
       "       0.073, 0.075, 0.077, 0.079, 0.081, 0.083, 0.085, 0.087, 0.089,\n",
       "       0.091, 0.093, 0.095, 0.097, 0.099])},\n",
       "             pre_dispatch='2*n_jobs', refit=True, return_train_score=True,\n",
       "             scoring='f1', verbose=False)"
      ]
     },
     "execution_count": 34,
     "metadata": {},
     "output_type": "execute_result"
    }
   ],
   "source": [
    "# gridsearch to find the optimal regularisation parameter C\n",
    "logreg_gscv = GridSearchCV(logreg_model, logreg_param_grid, **gs_kwargs)\n",
    "logreg_gscv.fit(X_train, y_train)"
   ]
  },
  {
   "cell_type": "code",
   "execution_count": 35,
   "metadata": {},
   "outputs": [
    {
     "data": {
      "text/plain": [
       "{'class_weight': 'balanced',\n",
       " 'penalty': 'l2',\n",
       " 'solver': 'lbfgs',\n",
       " 'max_iter': 1000,\n",
       " 'n_jobs': -1,\n",
       " 'random_state': 8888,\n",
       " 'C': 0.013000000000000001}"
      ]
     },
     "execution_count": 35,
     "metadata": {},
     "output_type": "execute_result"
    }
   ],
   "source": [
    "# updating our logisitc regression kwargs\n",
    "logreg_kwargs['C'] = logreg_gscv.best_params_['C']\n",
    "logreg_kwargs"
   ]
  },
  {
   "cell_type": "code",
   "execution_count": 36,
   "metadata": {},
   "outputs": [
    {
     "name": "stdout",
     "output_type": "stream",
     "text": [
      "Holdout Dataset Classification Report for Logistic Regression\n",
      "=============================================================\n",
      "              precision    recall  f1-score   support\n",
      "\n",
      "           0       0.85      0.69      0.76       326\n",
      "           1       0.53      0.75      0.63       155\n",
      "\n",
      "    accuracy                           0.71       481\n",
      "   macro avg       0.69      0.72      0.69       481\n",
      "weighted avg       0.75      0.71      0.72       481\n",
      "\n",
      "\n"
     ]
    },
    {
     "data": {
      "image/png": "[encoded data removed]",
      "text/plain": [
       "<Figure size 360x360 with 2 Axes>"
      ]
     },
     "metadata": {
      "needs_background": "light"
     },
     "output_type": "display_data"
    }
   ],
   "source": [
    "# saving the best estimator during GridSearch and getting evaluating on holdout data\n",
    "logreg_model = logreg_gscv.best_estimator_\n",
    "logreg_y_pred = mod.holdout_evaluation(logreg_model, X_train, y_train, X_test, y_test, model_name='Logistic Regression')"
   ]
  },
  {
   "cell_type": "code",
   "execution_count": 37,
   "metadata": {},
   "outputs": [
    {
     "data": {
      "text/html": [
       "<div>\n",
       "<style scoped>\n",
       "    .dataframe tbody tr th:only-of-type {\n",
       "        vertical-align: middle;\n",
       "    }\n",
       "\n",
       "    .dataframe tbody tr th {\n",
       "        vertical-align: top;\n",
       "    }\n",
       "\n",
       "    .dataframe thead th {\n",
       "        text-align: right;\n",
       "    }\n",
       "</style>\n",
       "<table border=\"1\" class=\"dataframe\">\n",
       "  <thead>\n",
       "    <tr style=\"text-align: right;\">\n",
       "      <th></th>\n",
       "      <th>Model</th>\n",
       "      <th>Accuracy</th>\n",
       "      <th>ROC_AUC</th>\n",
       "      <th>Precision</th>\n",
       "      <th>Recall</th>\n",
       "      <th>F1</th>\n",
       "    </tr>\n",
       "  </thead>\n",
       "  <tbody>\n",
       "    <tr>\n",
       "      <th>0</th>\n",
       "      <td>NearestCentroid</td>\n",
       "      <td>0.7048</td>\n",
       "      <td>0.7213</td>\n",
       "      <td>0.5289</td>\n",
       "      <td>0.7677</td>\n",
       "      <td>0.6263</td>\n",
       "    </tr>\n",
       "    <tr>\n",
       "      <th>1</th>\n",
       "      <td>NearestNeighbour</td>\n",
       "      <td>0.7464</td>\n",
       "      <td>0.6724</td>\n",
       "      <td>0.6486</td>\n",
       "      <td>0.4645</td>\n",
       "      <td>0.5414</td>\n",
       "    </tr>\n",
       "    <tr>\n",
       "      <th>2</th>\n",
       "      <td>LogisticRegression</td>\n",
       "      <td>0.7089</td>\n",
       "      <td>0.7210</td>\n",
       "      <td>0.5342</td>\n",
       "      <td>0.7548</td>\n",
       "      <td>0.6257</td>\n",
       "    </tr>\n",
       "  </tbody>\n",
       "</table>\n",
       "</div>"
      ],
      "text/plain": [
       "                Model  Accuracy  ROC_AUC  Precision  Recall      F1\n",
       "0     NearestCentroid    0.7048   0.7213     0.5289  0.7677  0.6263\n",
       "1    NearestNeighbour    0.7464   0.6724     0.6486  0.4645  0.5414\n",
       "2  LogisticRegression    0.7089   0.7210     0.5342  0.7548  0.6257"
      ]
     },
     "execution_count": 37,
     "metadata": {},
     "output_type": "execute_result"
    }
   ],
   "source": [
    "logreg_results = mod.classification_scores(y_test, logreg_y_pred, model_name='LogisticRegression')\n",
    "model_results = model_results.append(logreg_results, ignore_index=True)\n",
    "model_results"
   ]
  },
  {
   "cell_type": "markdown",
   "metadata": {},
   "source": [
    "#### Model Performance Interpretation\n",
    "\n",
    "The Logistic Regression has achieved an __F1 Score of 63%__, as well as similar precision and recall scores to the Baseline Nearest Centroid model.\n",
    "\n",
    "Currently, the simpler Nearest Centoid model is performing the best out of the models we have tested but the results are not quite satisfactory yet. \n",
    "\n",
    "We will move on to trying more complex models."
   ]
  },
  {
   "cell_type": "markdown",
   "metadata": {},
   "source": [
    "[Return to Table of Contents](#table_contents)"
   ]
  },
  {
   "cell_type": "code",
   "execution_count": null,
   "metadata": {},
   "outputs": [],
   "source": []
  }
 ],
 "metadata": {
  "kernelspec": {
   "display_name": "Python 3",
   "language": "python",
   "name": "python3"
  },
  "language_info": {
   "codemirror_mode": {
    "name": "ipython",
    "version": 3
   },
   "file_extension": ".py",
   "mimetype": "text/x-python",
   "name": "python",
   "nbconvert_exporter": "python",
   "pygments_lexer": "ipython3",
   "version": "3.7.0"
  }
 },
 "nbformat": 4,
 "nbformat_minor": 2
}
