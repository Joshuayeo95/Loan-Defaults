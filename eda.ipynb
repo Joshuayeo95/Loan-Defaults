{
 "cells": [
  {
   "cell_type": "markdown",
   "metadata": {},
   "source": [
    "# Data Preprocessing and Exploratory Data Analysis\n",
    "\n",
    "In this notebook, i detail my thought process as i work through the data preprocessing while also drawing insights from the visualisations during exploratory data analysis.\n",
    "\n",
    "The preprocessing and EDA will be performed on the training data, and the respective preprocessing / transformations will be made to the testing data set at the end.\n",
    "\n",
    "Below is a table of contents to aid navigation to specific sections of the notebook.\n",
    "\n",
    "__Note__: Majority of the functions used in this notebook are called from the `cleaning.py` and `visualisation.py` scripts in the `utils` folder."
   ]
  },
  {
   "cell_type": "markdown",
   "metadata": {},
   "source": [
    "## Table of Contents <a id='table_contents'></a>\n",
    "\n",
    "#### [1. Basic Data Preprocessing](#preprocessing)\n",
    "* [Initial Analysis of our Data](#initial_analysis)\n",
    "* [Correcting Data Types](#data_types)\n",
    "* [Handling Missing Data](#missing_data)"
   ]
  },
  {
   "cell_type": "markdown",
   "metadata": {},
   "source": [
    "### Importing Libraries"
   ]
  },
  {
   "cell_type": "code",
   "execution_count": 3,
   "metadata": {},
   "outputs": [],
   "source": [
    "# Standard Tools\n",
    "from scipy import stats\n",
    "import pandas as pd\n",
    "import numpy as np\n",
    "import pickle\n",
    "\n",
    "# Visualisation Tools\n",
    "import matplotlib.pyplot as plt\n",
    "import seaborn as sns\n",
    "\n",
    "# Custom Functions\n",
    "from utils import visualisation as viz\n",
    "from utils import cleaning\n",
    "\n",
    "# Misc\n",
    "import warnings\n",
    "warnings.filterwarnings('ignore')\n",
    "\n",
    "# Pandas Options\n",
    "pd.set_option('display.max_rows', 100)\n",
    "pd.set_option('display.max_columns', 100)\n",
    "\n",
    "# Plotting Options\n",
    "plt.rcParams['axes.facecolor'] = 'white'\n",
    "plt.style.use('fivethirtyeight')\n",
    "\n",
    "# Magic Functions\n",
    "%config InlineBackend.figure_format = 'retina'\n",
    "%matplotlib inline"
   ]
  },
  {
   "cell_type": "markdown",
   "metadata": {},
   "source": [
    "## Basic Data Preprocessing <a id='preprocessing'></a>\n",
    "\n",
    "In this section, we want to take a preliminary look at our data. This allows us to __identify potential errors__ within our data such as __missing values, incorrect data entry / data types and skewed features__, in order to rectify them.  "
   ]
  },
  {
   "cell_type": "markdown",
   "metadata": {},
   "source": [
    "### Loading Data and Initial Analysis <a id='initial_analysis'></a>"
   ]
  },
  {
   "cell_type": "code",
   "execution_count": 4,
   "metadata": {},
   "outputs": [],
   "source": [
    "train = pd.read_csv('./data/train.csv')"
   ]
  },
  {
   "cell_type": "code",
   "execution_count": 5,
   "metadata": {},
   "outputs": [
    {
     "data": {
      "text/html": [
       "<div>\n",
       "<style scoped>\n",
       "    .dataframe tbody tr th:only-of-type {\n",
       "        vertical-align: middle;\n",
       "    }\n",
       "\n",
       "    .dataframe tbody tr th {\n",
       "        vertical-align: top;\n",
       "    }\n",
       "\n",
       "    .dataframe thead th {\n",
       "        text-align: right;\n",
       "    }\n",
       "</style>\n",
       "<table border=\"1\" class=\"dataframe\">\n",
       "  <thead>\n",
       "    <tr style=\"text-align: right;\">\n",
       "      <th></th>\n",
       "      <th>id</th>\n",
       "      <th>industry</th>\n",
       "      <th>state</th>\n",
       "      <th>request_date</th>\n",
       "      <th>term</th>\n",
       "      <th>employee_count</th>\n",
       "      <th>business_new</th>\n",
       "      <th>business_type</th>\n",
       "      <th>location</th>\n",
       "      <th>other_loans</th>\n",
       "      <th>loan_amount</th>\n",
       "      <th>insured_amount</th>\n",
       "      <th>default_status</th>\n",
       "    </tr>\n",
       "  </thead>\n",
       "  <tbody>\n",
       "    <tr>\n",
       "      <th>0</th>\n",
       "      <td>4050975007</td>\n",
       "      <td>Others</td>\n",
       "      <td>VA</td>\n",
       "      <td>27-Apr-10</td>\n",
       "      <td>34</td>\n",
       "      <td>4</td>\n",
       "      <td>New</td>\n",
       "      <td>0</td>\n",
       "      <td>Rural</td>\n",
       "      <td>N</td>\n",
       "      <td>$35,000.00</td>\n",
       "      <td>$35,000.00</td>\n",
       "      <td>1</td>\n",
       "    </tr>\n",
       "    <tr>\n",
       "      <th>1</th>\n",
       "      <td>3735095001</td>\n",
       "      <td>Manufacturing</td>\n",
       "      <td>CA</td>\n",
       "      <td>05-Nov-09</td>\n",
       "      <td>107</td>\n",
       "      <td>1</td>\n",
       "      <td>New</td>\n",
       "      <td>0</td>\n",
       "      <td>Rural</td>\n",
       "      <td>N</td>\n",
       "      <td>$15,000.00</td>\n",
       "      <td>$13,500.00</td>\n",
       "      <td>1</td>\n",
       "    </tr>\n",
       "    <tr>\n",
       "      <th>2</th>\n",
       "      <td>3936555004</td>\n",
       "      <td>Trading</td>\n",
       "      <td>CA</td>\n",
       "      <td>26-Feb-10</td>\n",
       "      <td>84</td>\n",
       "      <td>1</td>\n",
       "      <td>New</td>\n",
       "      <td>0</td>\n",
       "      <td>Rural</td>\n",
       "      <td>Y</td>\n",
       "      <td>$265,000.00</td>\n",
       "      <td>$100,000.00</td>\n",
       "      <td>0</td>\n",
       "    </tr>\n",
       "    <tr>\n",
       "      <th>3</th>\n",
       "      <td>4130405000</td>\n",
       "      <td>Engineering</td>\n",
       "      <td>MI</td>\n",
       "      <td>10-Jun-10</td>\n",
       "      <td>240</td>\n",
       "      <td>21</td>\n",
       "      <td>New</td>\n",
       "      <td>0</td>\n",
       "      <td>Rural</td>\n",
       "      <td>N</td>\n",
       "      <td>$255,000.00</td>\n",
       "      <td>$255,000.00</td>\n",
       "      <td>0</td>\n",
       "    </tr>\n",
       "    <tr>\n",
       "      <th>4</th>\n",
       "      <td>4263615008</td>\n",
       "      <td>Education</td>\n",
       "      <td>NH</td>\n",
       "      <td>23-Sep-10</td>\n",
       "      <td>36</td>\n",
       "      <td>1</td>\n",
       "      <td>Existing</td>\n",
       "      <td>0</td>\n",
       "      <td>Rural</td>\n",
       "      <td>N</td>\n",
       "      <td>$13,300.00</td>\n",
       "      <td>$6,650.00</td>\n",
       "      <td>0</td>\n",
       "    </tr>\n",
       "  </tbody>\n",
       "</table>\n",
       "</div>"
      ],
      "text/plain": [
       "           id       industry state request_date  term  employee_count  \\\n",
       "0  4050975007         Others    VA    27-Apr-10    34               4   \n",
       "1  3735095001  Manufacturing    CA    05-Nov-09   107               1   \n",
       "2  3936555004        Trading    CA    26-Feb-10    84               1   \n",
       "3  4130405000    Engineering    MI    10-Jun-10   240              21   \n",
       "4  4263615008      Education    NH    23-Sep-10    36               1   \n",
       "\n",
       "  business_new  business_type location other_loans  loan_amount  \\\n",
       "0          New              0    Rural           N   $35,000.00   \n",
       "1          New              0    Rural           N   $15,000.00   \n",
       "2          New              0    Rural           Y  $265,000.00   \n",
       "3          New              0    Rural           N  $255,000.00   \n",
       "4     Existing              0    Rural           N   $13,300.00   \n",
       "\n",
       "  insured_amount  default_status  \n",
       "0     $35,000.00               1  \n",
       "1     $13,500.00               1  \n",
       "2    $100,000.00               0  \n",
       "3    $255,000.00               0  \n",
       "4      $6,650.00               0  "
      ]
     },
     "execution_count": 5,
     "metadata": {},
     "output_type": "execute_result"
    }
   ],
   "source": [
    "train.head()"
   ]
  },
  {
   "cell_type": "code",
   "execution_count": 12,
   "metadata": {},
   "outputs": [
    {
     "name": "stdout",
     "output_type": "stream",
     "text": [
      "==========================\n",
      "SUMMARY REPORT FOR DATASET\n",
      "==========================\n",
      "\n",
      "Cleaning dataframe columns ...\n",
      "Removing whitespaces ...\n",
      "Replacing dashes with underscores ...\n",
      "Changing to lower case ...\n",
      "Dataframe column headers have been formatted.\n",
      "\n",
      "The data has 2402 observations and 13 features.\n",
      "Numerical Features : 5\n",
      "Categorical Features : 8\n",
      "\n",
      "The data has missing values.\n",
      "- To save the features and their respective missing values, call the variable_missing_percentage function.\n",
      "\n",
      "Methods to handle missing values for Numerical Features:\n",
      "1. Impute missing values with Mean / Median / KNN Imputer\n",
      "2. Drop feature with high proportion of missing values.\n",
      "3. For time series data, consider Linear Interpolation / Back-filling / Forward-filling\n",
      "\n",
      "Methods to handle missing values for Categorical Features:\n",
      "1. Impute missing values with Mode / KNN Imputer\n",
      "2. Classify all the missing values as a new category.\n",
      "3. Drop feature with high proportion of missing values.\n",
      "\n",
      "There are Numerical Features within the data that have skewness greater than 1 in magnitude.\n",
      "- To save a list of the skewed variables, call the function check_variable_skew.\n",
      "- To visualise the distributions of the skewed features, call the function skewness_subplots.\n",
      "\n",
      "Reminder : Check feature data types are correct.\n",
      "Reminder : Check for narrowly distributed variables - most_frequent_value_proportion function\n",
      "Reminder : Check the count plots for categorical variables.\n",
      "Reminder : Check for potential outliers - Boxplots / Scatterplots\n",
      "Reminder : Plot the Correlation Heatmap.\n",
      "1. For continuous - continuous correlations, use Pearsons Correlation.\n",
      "2. For binary - continuous correlations, use Point Biserial Correlation.\n",
      "3. For ordinal - continuous correlations, use Spearmans Rho.\n",
      "\n",
      "=============\n",
      "END OF REPORT\n",
      "=============\n"
     ]
    }
   ],
   "source": [
    "# summary report that does basic cleaning and identifies common issues such as missing data or skewed features\n",
    "train = cleaning.data_report(train, reminders=True)"
   ]
  },
  {
   "cell_type": "code",
   "execution_count": 16,
   "metadata": {},
   "outputs": [],
   "source": [
    "# dropping the 'id' feature as we can use the Dataframe's index\n",
    "train = train.drop('id', axis=1)"
   ]
  },
  {
   "cell_type": "markdown",
   "metadata": {},
   "source": [
    "### Checking Feature Data Types <a id='data_types'></a>\n",
    "\n",
    "From the above summary report on our training dataset, we see that we have a few issues such as missing data and skewed variables. \n",
    "\n",
    "But before we handle those issues, we need to check if the features have the correct data types. "
   ]
  },
  {
   "cell_type": "code",
   "execution_count": 19,
   "metadata": {},
   "outputs": [
    {
     "name": "stdout",
     "output_type": "stream",
     "text": [
      "<class 'pandas.core.frame.DataFrame'>\n",
      "RangeIndex: 2402 entries, 0 to 2401\n",
      "Data columns (total 12 columns):\n",
      "industry          2401 non-null object\n",
      "state             2402 non-null object\n",
      "request_date      2402 non-null object\n",
      "term              2402 non-null int64\n",
      "employee_count    2402 non-null int64\n",
      "business_new      2402 non-null object\n",
      "business_type     2402 non-null int64\n",
      "location          2402 non-null object\n",
      "other_loans       2402 non-null object\n",
      "loan_amount       2402 non-null object\n",
      "insured_amount    2402 non-null object\n",
      "default_status    2402 non-null int64\n",
      "dtypes: int64(4), object(8)\n",
      "memory usage: 150.2+ KB\n"
     ]
    }
   ],
   "source": [
    "# checking data types\n",
    "train.info()"
   ]
  },
  {
   "cell_type": "markdown",
   "metadata": {},
   "source": [
    "There two features `loan_amount` and `insured_amount`  have __incorrect data types__, as they have 'objects' data type when they are in fact numerical data.\n",
    "\n",
    "From our initial look at the data, we  know that the __problem is due to the '$' character__ being included in the values."
   ]
  },
  {
   "cell_type": "code",
   "execution_count": 23,
   "metadata": {},
   "outputs": [],
   "source": [
    "# removing '$' and correcting data types\n",
    "train['loan_amount'] = train['loan_amount'].replace('[\\$,]', '', regex=True).astype(float)\n",
    "train['insured_amount'] = train['insured_amount'].replace('[\\$,]', '', regex=True).astype(float)"
   ]
  },
  {
   "cell_type": "markdown",
   "metadata": {},
   "source": [
    "Furthermore, we will convert the `request_date` feature  to a __datetime object__ as it allows us to __extract the time features__ such as the __month__ and __year__ of the request date.\n",
    "\n",
    "We will also be dropping the `request_date` feature after extracting the time features as we __do not need the level of granularity of having individual dates__. One hot encoding the feature would result in a __sparse matrix__ as well."
   ]
  },
  {
   "cell_type": "code",
   "execution_count": 24,
   "metadata": {},
   "outputs": [],
   "source": [
    "# converting to datetime format\n",
    "train['request_date'] = pd.to_datetime(train['request_date'], format='%d-%b-%y')"
   ]
  },
  {
   "cell_type": "code",
   "execution_count": 25,
   "metadata": {},
   "outputs": [
    {
     "name": "stdout",
     "output_type": "stream",
     "text": [
      "Datetime variable has been dropped.\n"
     ]
    }
   ],
   "source": [
    "# creating new features for the year and month that the loan was requested and dropping original feature\n",
    "train = cleaning.create_time_vars(train, time_var='request_date', year=True, month=True,\n",
    "                                  day=False, season=False, drop=True)"
   ]
  },
  {
   "cell_type": "markdown",
   "metadata": {},
   "source": [
    "Additionally our numerical features are expected to be postive, therefore we need to chekc if there are any negative values which may signal some error during the data collection stage."
   ]
  },
  {
   "cell_type": "code",
   "execution_count": 27,
   "metadata": {},
   "outputs": [
    {
     "name": "stdout",
     "output_type": "stream",
     "text": [
      "There are no numeric variables with negative values.\n"
     ]
    },
    {
     "data": {
      "text/html": [
       "<div>\n",
       "<style scoped>\n",
       "    .dataframe tbody tr th:only-of-type {\n",
       "        vertical-align: middle;\n",
       "    }\n",
       "\n",
       "    .dataframe tbody tr th {\n",
       "        vertical-align: top;\n",
       "    }\n",
       "\n",
       "    .dataframe thead th {\n",
       "        text-align: right;\n",
       "    }\n",
       "</style>\n",
       "<table border=\"1\" class=\"dataframe\">\n",
       "  <thead>\n",
       "    <tr style=\"text-align: right;\">\n",
       "      <th></th>\n",
       "      <th>NegativeValues</th>\n",
       "    </tr>\n",
       "  </thead>\n",
       "  <tbody>\n",
       "    <tr>\n",
       "      <th>term</th>\n",
       "      <td>False</td>\n",
       "    </tr>\n",
       "    <tr>\n",
       "      <th>employee_count</th>\n",
       "      <td>False</td>\n",
       "    </tr>\n",
       "    <tr>\n",
       "      <th>business_type</th>\n",
       "      <td>False</td>\n",
       "    </tr>\n",
       "    <tr>\n",
       "      <th>loan_amount</th>\n",
       "      <td>False</td>\n",
       "    </tr>\n",
       "    <tr>\n",
       "      <th>insured_amount</th>\n",
       "      <td>False</td>\n",
       "    </tr>\n",
       "    <tr>\n",
       "      <th>default_status</th>\n",
       "      <td>False</td>\n",
       "    </tr>\n",
       "  </tbody>\n",
       "</table>\n",
       "</div>"
      ],
      "text/plain": [
       "                NegativeValues\n",
       "term                     False\n",
       "employee_count           False\n",
       "business_type            False\n",
       "loan_amount              False\n",
       "insured_amount           False\n",
       "default_status           False"
      ]
     },
     "execution_count": 27,
     "metadata": {},
     "output_type": "execute_result"
    }
   ],
   "source": [
    "# checking for negative values\n",
    "negative_values = cleaning.check_negative(train)\n",
    "negative_values"
   ]
  },
  {
   "cell_type": "markdown",
   "metadata": {},
   "source": [
    "### Handling Missing Data <a id='missing_data'></a>\n",
    "\n",
    "Now that we have ensured the data types are correct and have sanity checked our data, we can move on to handling missing data."
   ]
  },
  {
   "cell_type": "code",
   "execution_count": 28,
   "metadata": {},
   "outputs": [
    {
     "name": "stdout",
     "output_type": "stream",
     "text": [
      "The dataframe has 13 variables.\n",
      "There are a total of 1 variables with missing values and their missing percentages are as follows:\n",
      "\n",
      "industry    0.04\n"
     ]
    }
   ],
   "source": [
    "# displays features with missing data and proportion of data that is missing\n",
    "cleaning.variable_missing_percentage(train)"
   ]
  },
  {
   "cell_type": "markdown",
   "metadata": {},
   "source": [
    "There is only one feature with missing values. As the __percentage missing is small__, we will just __remove the data points__."
   ]
  },
  {
   "cell_type": "code",
   "execution_count": 29,
   "metadata": {},
   "outputs": [
    {
     "name": "stdout",
     "output_type": "stream",
     "text": [
      "The dataframe has 13 variables.\n",
      "The dataframe has no missing values in any column.\n"
     ]
    }
   ],
   "source": [
    "train = train.dropna(how='any')\n",
    "cleaning.variable_missing_percentage(train)"
   ]
  },
  {
   "cell_type": "markdown",
   "metadata": {},
   "source": [
    "Now that we have sanitised our data sufficiently, we can move on to analysing our features individually."
   ]
  },
  {
   "cell_type": "markdown",
   "metadata": {},
   "source": [
    "[Return to Table of Contents](#table_contents)"
   ]
  },
  {
   "cell_type": "code",
   "execution_count": null,
   "metadata": {},
   "outputs": [],
   "source": []
  }
 ],
 "metadata": {
  "kernelspec": {
   "display_name": "Python 3",
   "language": "python",
   "name": "python3"
  },
  "language_info": {
   "codemirror_mode": {
    "name": "ipython",
    "version": 3
   },
   "file_extension": ".py",
   "mimetype": "text/x-python",
   "name": "python",
   "nbconvert_exporter": "python",
   "pygments_lexer": "ipython3",
   "version": "3.7.0"
  }
 },
 "nbformat": 4,
 "nbformat_minor": 2
}
